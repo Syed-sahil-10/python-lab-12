{
 "cells": [
  {
   "cell_type": "code",
   "execution_count": 6,
   "id": "4ef5bb77-afea-43e1-8312-4abd33c5c343",
   "metadata": {},
   "outputs": [],
   "source": [
    "#read a csv file"
   ]
  },
  {
   "cell_type": "code",
   "execution_count": 1,
   "id": "f1116dc4-2ea0-4d3f-9b04-c4a052075e48",
   "metadata": {},
   "outputs": [
    {
     "name": "stdout",
     "output_type": "stream",
     "text": [
      "      Name  Age        City\n",
      "0     syed   20     vellore\n",
      "1    sahil   21     chennai\n",
      "2    riyaz   21       pondy\n",
      "3    suheb   23   hyderabad\n",
      "4  sufiyan   22  tirupattur\n"
     ]
    }
   ],
   "source": [
    "\n",
    "import pandas as pd\n",
    "df=pd.read_csv(\"data.csv\")\n",
    "print(df.head())"
   ]
  },
  {
   "cell_type": "code",
   "execution_count": 5,
   "id": "dce7c1cc-1d04-438a-8d93-20694f5fe6ca",
   "metadata": {},
   "outputs": [],
   "source": [
    "#Extracting csv into pandas"
   ]
  },
  {
   "cell_type": "code",
   "execution_count": 4,
   "id": "989df730-acdc-4107-b4c2-6ef3ec1e2aaf",
   "metadata": {},
   "outputs": [
    {
     "name": "stdout",
     "output_type": "stream",
     "text": [
      "columns: Index(['Name', 'Age', 'City'], dtype='object')\n",
      "dt preview:\n",
      "       Name  Age        City\n",
      "0     syed   20     vellore\n",
      "1    sahil   21     chennai\n",
      "2    riyaz   21       pondy\n",
      "3    suheb   23   hyderabad\n",
      "4  sufiyan   22  tirupattur\n"
     ]
    }
   ],
   "source": [
    "data=pd.read_csv(\"data.csv\")\n",
    "print(\"columns:\",data.columns)\n",
    "print(\"dt preview:\\n\",data)"
   ]
  },
  {
   "cell_type": "code",
   "execution_count": 7,
   "id": "66342025-fafc-4cc3-8074-1cc61e011f17",
   "metadata": {},
   "outputs": [],
   "source": [
    "#append to csv"
   ]
  },
  {
   "cell_type": "code",
   "execution_count": 12,
   "id": "d1f11cb1-ad7f-41fc-a51b-58894803779e",
   "metadata": {},
   "outputs": [],
   "source": [
    "new_data=pd.DataFrame({\n",
    "    \"Name\":[\"john\",\"cris\"],\n",
    "    \"Age\":[28,24],\n",
    "    \"City\":[\"delhi\",\"chennai\"]\n",
    "})\n",
    "\n",
    "#append to existing csv\n",
    "new_data.to_csv(\"data.csv\",mode=\"a\",\n",
    "header=False,index=False)"
   ]
  },
  {
   "cell_type": "code",
   "execution_count": 13,
   "id": "8a0dfc8e-a923-416e-9572-e02edd1c3fe2",
   "metadata": {},
   "outputs": [],
   "source": [
    "#read a csv chunk by chunk\n"
   ]
  },
  {
   "cell_type": "code",
   "execution_count": 18,
   "id": "4764ce7b-c551-4e5d-8828-4004c14690a9",
   "metadata": {},
   "outputs": [
    {
     "name": "stdout",
     "output_type": "stream",
     "text": [
      "Name       syed\n",
      "Age          20\n",
      "City    vellore\n",
      "Name: 0, dtype: object\n",
      "Name      sahil\n",
      "Age          21\n",
      "City    chennai\n",
      "Name: 1, dtype: object\n",
      "Name    riyaz\n",
      "Age        21\n",
      "City    pondy\n",
      "Name: 2, dtype: object\n",
      "Name        suheb\n",
      "Age            23\n",
      "City    hyderabad\n",
      "Name: 3, dtype: object\n",
      "Name       sufiyan\n",
      "Age             22\n",
      "City    tirupattur\n",
      "Name: 4, dtype: object\n",
      "Name     john\n",
      "Age        28\n",
      "City    delhi\n",
      "Name: 5, dtype: object\n",
      "Name       cris\n",
      "Age          24\n",
      "City    chennai\n",
      "Name: 6, dtype: object\n",
      "Name     john\n",
      "Age        28\n",
      "City    delhi\n",
      "Name: 7, dtype: object\n",
      "Name       cris\n",
      "Age          24\n",
      "City    chennai\n",
      "Name: 8, dtype: object\n",
      "Name     john\n",
      "Age        28\n",
      "City    delhi\n",
      "Name: 9, dtype: object\n",
      "Name       cris\n",
      "Age          24\n",
      "City    chennai\n",
      "Name: 10, dtype: object\n",
      "Name     john\n",
      "Age        28\n",
      "City    delhi\n",
      "Name: 11, dtype: object\n",
      "Name       cris\n",
      "Age          24\n",
      "City    chennai\n",
      "Name: 12, dtype: object\n"
     ]
    }
   ],
   "source": [
    "csv_iterator=pd.read_csv(\"data.csv\",iterator=True,chunksize=1000)\n",
    "tp=[]\n",
    "for chunk in csv_iterator:\n",
    "    for index,row in chunk.iterrows():\n",
    "        print(row)\n",
    "    tp.append(chunk)\n",
    "\n",
    "df=pd.concat(tp,ignore_index=True)"
   ]
  },
  {
   "cell_type": "code",
   "execution_count": 19,
   "id": "02a505ef-2e2d-4b58-805a-39c89cc02f2f",
   "metadata": {},
   "outputs": [],
   "source": [
    "#write numeric data into csv"
   ]
  },
  {
   "cell_type": "code",
   "execution_count": 21,
   "id": "01ebee17-63cf-45e7-81ac-af353fdb273b",
   "metadata": {},
   "outputs": [],
   "source": [
    "num_data=pd.DataFrame({\n",
    "    \"id\":[1,2,3,4],\n",
    "    \"marks\":[88,92,76,95],\n",
    "    \"rank\":[2,1,4,3]\n",
    "})\n",
    "\n",
    "num_data.to_csv(\"data.csv\",index=False)"
   ]
  },
  {
   "cell_type": "code",
   "execution_count": 22,
   "id": "730546f8-9fea-442c-a6d4-8c172972dfc7",
   "metadata": {},
   "outputs": [],
   "source": [
    "#write text data into csv"
   ]
  },
  {
   "cell_type": "code",
   "execution_count": 24,
   "id": "40a42e5f-0967-4894-88c8-cea667391657",
   "metadata": {},
   "outputs": [],
   "source": [
    "text_data=pd.DataFrame({\n",
    "    \"Name\":[\"alice\",\"bob\",\"charlie\"],\n",
    "    \"City\":[\"mumbai\",\"bangalore\",\"hyderabad\"],\n",
    "    \"Department\":[\"HR\",\"IT\",\"Finance\"]\n",
    "})\n",
    "\n",
    "text_data.to_csv(\"data.csv\",index=False)"
   ]
  },
  {
   "cell_type": "code",
   "execution_count": null,
   "id": "5b81308a-ace2-441e-81ea-42506097d6de",
   "metadata": {},
   "outputs": [],
   "source": []
  },
  {
   "cell_type": "code",
   "execution_count": null,
   "id": "a122eb7c-028d-49d7-93b8-e036e3ba14ed",
   "metadata": {},
   "outputs": [],
   "source": []
  }
 ],
 "metadata": {
  "kernelspec": {
   "display_name": "Python 3 (ipykernel)",
   "language": "python",
   "name": "python3"
  },
  "language_info": {
   "codemirror_mode": {
    "name": "ipython",
    "version": 3
   },
   "file_extension": ".py",
   "mimetype": "text/x-python",
   "name": "python",
   "nbconvert_exporter": "python",
   "pygments_lexer": "ipython3",
   "version": "3.12.4"
  }
 },
 "nbformat": 4,
 "nbformat_minor": 5
}
